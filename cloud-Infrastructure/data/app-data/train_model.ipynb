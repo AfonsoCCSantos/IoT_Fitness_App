{
 "cells": [
  {
   "cell_type": "code",
   "execution_count": null,
   "metadata": {},
   "outputs": [],
   "source": [
    "import numpy as np\n",
    "import pandas as pd\n",
    "from sklearn.model_selection import train_test_split\n",
    "from sklearn.model_selection import KFold\n",
    "from sklearn.model_selection import cross_val_score\n",
    "from sklearn.linear_model import LogisticRegression\n",
    "from sklearn.tree import DecisionTreeClassifier\n",
    "from sklearn.neighbors import KNeighborsClassifier\n",
    "from sklearn.discriminant_analysis import LinearDiscriminantAnalysis\n",
    "from sklearn.naive_bayes import GaussianNB\n",
    "from sklearn.svm import SVC\n",
    "from sklearn.neural_network import MLPClassifier # neural network\n",
    "from sklearn.metrics import accuracy_score\n",
    "from sklearn.metrics import classification_report\n",
    "from sklearn.metrics import confusion_matrix\n",
    "from sklearn.impute import SimpleImputer\n",
    "import joblib\n",
    "import gzip"
   ]
  },
  {
   "cell_type": "markdown",
   "metadata": {},
   "source": [
    "EXPLICAR O PROCESSO EM ALTO NIVEL\n",
    "INDICAR TAMBEM QUE NAO TESTAMOS VARIOS PARAMETROS PARA CADA MODELO POR MOTIVOS DE TEMPO/SIMPLICIDADE"
   ]
  },
  {
   "cell_type": "markdown",
   "metadata": {},
   "source": [
    "First, read the data from the file.\n",
    "We are also separating the activity column from the others, since the activity column is the label.\n",
    "The date and time columns are dropped since they have no use in the classification."
   ]
  },
  {
   "cell_type": "code",
   "execution_count": null,
   "metadata": {},
   "outputs": [],
   "source": [
    "data = pd.read_csv('data/output_training.data', delimiter=';')\n",
    "\n",
    "imputer = SimpleImputer(strategy='mean')\n",
    "\n",
    "X = imputer.fit_transform(data.drop(['activity', 'date', 'time'], axis=1))\n",
    "y = data['activity']"
   ]
  },
  {
   "cell_type": "markdown",
   "metadata": {},
   "source": [
    "First, we will define all the models that we will train and evaluate to then select the one with the best f1-score. EXPLICAR PORQUE USAR F1SCORE"
   ]
  },
  {
   "cell_type": "code",
   "execution_count": null,
   "metadata": {},
   "outputs": [],
   "source": [
    "models = []\n",
    "# linear models\n",
    "models.append(('LR', LogisticRegression(solver='liblinear', multi_class=\"auto\")))\n",
    "models.append(('LDA', LinearDiscriminantAnalysis()))\n",
    "# nonlinear models\n",
    "models.append(('DT', DecisionTreeClassifier()))\n",
    "models.append(('KNN', KNeighborsClassifier()))\n",
    "models.append(('GNB', GaussianNB()))\n",
    "models.append(('SVC', SVC(C = 1.0, kernel = 'linear')))"
   ]
  },
  {
   "cell_type": "markdown",
   "metadata": {},
   "source": [
    "Separate between training and testing data and evaluate each model"
   ]
  },
  {
   "cell_type": "code",
   "execution_count": null,
   "metadata": {},
   "outputs": [],
   "source": [
    "X_train, X_test, y_train, y_test = train_test_split(X, y, test_size=0.2, random_state=7)\n",
    "\n",
    "# evaluate each model in turn\n",
    "print(\"Model Accuracy:\")\n",
    "names = []\n",
    "accuracy = []\n",
    "for name, model in models:\n",
    "    # 10 fold cross validation to evalue model\n",
    "    kfold = KFold(n_splits=10, shuffle=True)\n",
    "    cv_results = cross_val_score(model, X_train, y_train, cv=kfold, scoring='accuracy')\n",
    "    \n",
    "    # display the cross validation results of the current model\n",
    "    names.append(name)\n",
    "    accuracy.append(cv_results.mean())\n",
    "    msg = \"%s: accuracy=%f std=(%f)\" % (name, cv_results.mean(), cv_results.std())\n",
    "    print(msg)"
   ]
  }
 ],
 "metadata": {
  "language_info": {
   "name": "python"
  }
 },
 "nbformat": 4,
 "nbformat_minor": 2
}
